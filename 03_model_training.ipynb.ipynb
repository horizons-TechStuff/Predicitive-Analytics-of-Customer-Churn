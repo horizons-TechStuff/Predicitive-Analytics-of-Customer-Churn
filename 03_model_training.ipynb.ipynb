{
 "cells": [
  {
   "cell_type": "code",
   "execution_count": 0,
   "metadata": {
    "application/vnd.databricks.v1+cell": {
     "cellMetadata": {
      "byteLimit": 2048000,
      "rowLimit": 10000
     },
     "inputWidgets": {},
     "nuid": "beab1ebc-a466-4fa5-b048-917b72bfb4a2",
     "showTitle": false,
     "tableResultSettingsMap": {},
     "title": ""
    }
   },
   "outputs": [
    {
     "output_type": "display_data",
     "data": {
      "text/html": [
       "<style scoped>\n",
       "  .table-result-container {\n",
       "    max-height: 300px;\n",
       "    overflow: auto;\n",
       "  }\n",
       "  table, th, td {\n",
       "    border: 1px solid black;\n",
       "    border-collapse: collapse;\n",
       "  }\n",
       "  th, td {\n",
       "    padding: 5px;\n",
       "  }\n",
       "  th {\n",
       "    text-align: left;\n",
       "  }\n",
       "</style><div class='table-result-container'><table class='table-result'><thead style='background-color: white'><tr><th>path</th><th>name</th><th>size</th><th>modificationTime</th></tr></thead><tbody><tr><td>dbfs:/FileStore/tables/</td><td>tables/</td><td>0</td><td>0</td></tr></tbody></table></div>"
      ]
     },
     "metadata": {
      "application/vnd.databricks.v1+output": {
       "addedWidgets": {},
       "aggData": [],
       "aggError": "",
       "aggOverflow": false,
       "aggSchema": [],
       "aggSeriesLimitReached": false,
       "aggType": "",
       "arguments": {},
       "columnCustomDisplayInfos": {},
       "data": [
        [
         "dbfs:/FileStore/tables/",
         "tables/",
         0,
         0
        ]
       ],
       "datasetInfos": [],
       "dbfsResultPath": null,
       "isJsonSchema": true,
       "metadata": {},
       "overflow": false,
       "plotOptions": {
        "customPlotOptions": {},
        "displayType": "table",
        "pivotAggregation": null,
        "pivotColumns": null,
        "xColumns": null,
        "yColumns": null
       },
       "removedWidgets": [],
       "schema": [
        {
         "metadata": "{}",
         "name": "path",
         "type": "\"string\""
        },
        {
         "metadata": "{}",
         "name": "name",
         "type": "\"string\""
        },
        {
         "metadata": "{}",
         "name": "size",
         "type": "\"long\""
        },
        {
         "metadata": "{}",
         "name": "modificationTime",
         "type": "\"long\""
        }
       ],
       "type": "table"
      }
     },
     "output_type": "display_data"
    }
   ],
   "source": [
    "display(dbutils.fs.ls(\"dbfs:/FileStore/\"))\n"
   ]
  },
  {
   "cell_type": "code",
   "execution_count": 0,
   "metadata": {
    "application/vnd.databricks.v1+cell": {
     "cellMetadata": {
      "byteLimit": 2048000,
      "rowLimit": 10000
     },
     "inputWidgets": {},
     "nuid": "f22f7c5e-6e81-4cb1-a744-8b1402739c1d",
     "showTitle": false,
     "tableResultSettingsMap": {},
     "title": ""
    }
   },
   "outputs": [],
   "source": [
    "# Load preprocessed data\n",
    "data = spark.read.parquet(\"dbfs:/FileStore/tables/preprocessed_data.parquet\")\n"
   ]
  },
  {
   "cell_type": "markdown",
   "metadata": {
    "application/vnd.databricks.v1+cell": {
     "cellMetadata": {
      "byteLimit": 2048000,
      "rowLimit": 10000
     },
     "inputWidgets": {},
     "nuid": "c4f63807-755d-4473-b56a-781d241d3f95",
     "showTitle": false,
     "tableResultSettingsMap": {},
     "title": ""
    }
   },
   "source": [
    "Split the data into training and test sets , 80% for train , 20% for test"
   ]
  },
  {
   "cell_type": "code",
   "execution_count": 0,
   "metadata": {
    "application/vnd.databricks.v1+cell": {
     "cellMetadata": {
      "byteLimit": 2048000,
      "rowLimit": 10000
     },
     "inputWidgets": {},
     "nuid": "f141a189-86f7-4cf9-939e-d4b5299e66b9",
     "showTitle": false,
     "tableResultSettingsMap": {},
     "title": ""
    }
   },
   "outputs": [],
   "source": [
    "\n",
    "train_data, test_data = data.randomSplit([0.8, 0.2], seed=42)\n"
   ]
  },
  {
   "cell_type": "markdown",
   "metadata": {
    "application/vnd.databricks.v1+cell": {
     "cellMetadata": {
      "byteLimit": 2048000,
      "rowLimit": 10000
     },
     "inputWidgets": {},
     "nuid": "e0da6f01-4561-47ab-a10b-f67374f042cf",
     "showTitle": false,
     "tableResultSettingsMap": {},
     "title": ""
    }
   },
   "source": [
    "Training a Logistic Regression Model"
   ]
  },
  {
   "cell_type": "code",
   "execution_count": 0,
   "metadata": {
    "application/vnd.databricks.v1+cell": {
     "cellMetadata": {
      "byteLimit": 2048000,
      "rowLimit": 10000
     },
     "inputWidgets": {},
     "nuid": "d490fc31-c8cc-4103-b3c8-34f191453500",
     "showTitle": false,
     "tableResultSettingsMap": {},
     "title": ""
    }
   },
   "outputs": [],
   "source": [
    "final_df = spark.read.parquet(\"dbfs:/FileStore/tables/preprocessed_data.parquet\")\n"
   ]
  },
  {
   "cell_type": "code",
   "execution_count": 0,
   "metadata": {
    "application/vnd.databricks.v1+cell": {
     "cellMetadata": {
      "byteLimit": 2048000,
      "rowLimit": 10000
     },
     "inputWidgets": {},
     "nuid": "bbf2691b-e88b-4c7b-a6bf-b7f7a2381f21",
     "showTitle": false,
     "tableResultSettingsMap": {},
     "title": ""
    }
   },
   "outputs": [
    {
     "output_type": "stream",
     "name": "stdout",
     "output_type": "stream",
     "text": [
      "Out[5]: ['features', 'label_column_name']"
     ]
    }
   ],
   "source": [
    "final_df.columns\n"
   ]
  },
  {
   "cell_type": "code",
   "execution_count": 0,
   "metadata": {
    "application/vnd.databricks.v1+cell": {
     "cellMetadata": {
      "byteLimit": 2048000,
      "rowLimit": 10000
     },
     "inputWidgets": {},
     "nuid": "8bd4d109-09fb-48b0-8ca5-0a8374738c56",
     "showTitle": false,
     "tableResultSettingsMap": {},
     "title": ""
    }
   },
   "outputs": [],
   "source": [
    "from pyspark.ml.feature import StringIndexer\n"
   ]
  },
  {
   "cell_type": "code",
   "execution_count": 0,
   "metadata": {
    "application/vnd.databricks.v1+cell": {
     "cellMetadata": {
      "byteLimit": 2048000,
      "rowLimit": 10000
     },
     "inputWidgets": {},
     "nuid": "7aab48d7-5947-4996-9a25-240044c533b8",
     "showTitle": false,
     "tableResultSettingsMap": {},
     "title": ""
    }
   },
   "outputs": [],
   "source": [
    "indexer = StringIndexer(inputCol=\"label_column_name\", outputCol=\"label\")\n",
    "final_df = indexer.fit(final_df).transform(final_df)\n"
   ]
  },
  {
   "cell_type": "markdown",
   "metadata": {
    "application/vnd.databricks.v1+cell": {
     "cellMetadata": {
      "byteLimit": 2048000,
      "rowLimit": 10000
     },
     "inputWidgets": {},
     "nuid": "4d900e78-b881-4264-8ba3-a982917670ff",
     "showTitle": false,
     "tableResultSettingsMap": {},
     "title": ""
    }
   },
   "source": [
    "churn by mistake had an alias named label_column_name , we are proceeding with this alias"
   ]
  },
  {
   "cell_type": "markdown",
   "metadata": {
    "application/vnd.databricks.v1+cell": {
     "cellMetadata": {
      "byteLimit": 2048000,
      "rowLimit": 10000
     },
     "inputWidgets": {},
     "nuid": "f01106b4-12dd-490d-957b-15e882badc71",
     "showTitle": false,
     "tableResultSettingsMap": {},
     "title": ""
    }
   },
   "source": [
    "Model Training with Logistic Regression"
   ]
  },
  {
   "cell_type": "code",
   "execution_count": 0,
   "metadata": {
    "application/vnd.databricks.v1+cell": {
     "cellMetadata": {
      "byteLimit": 2048000,
      "rowLimit": 10000
     },
     "inputWidgets": {},
     "nuid": "0a51fdb8-cb08-4009-a0e2-d7df0f691ca9",
     "showTitle": false,
     "tableResultSettingsMap": {},
     "title": ""
    }
   },
   "outputs": [
    {
     "output_type": "stream",
     "name": "stdout",
     "output_type": "stream",
     "text": [
      "+-----+----------+--------------------+\n|label|prediction|            features|\n+-----+----------+--------------------+\n|  0.0|       0.0|(45,[0,1,3,4,7,8,...|\n|  0.0|       0.0|(45,[0,1,2,4,6,8,...|\n|  1.0|       0.0|(45,[0,1,2,4,6,8,...|\n|  0.0|       0.0|(45,[0,1,2,4,6,8,...|\n|  1.0|       1.0|(45,[0,1,3,4,6,8,...|\n+-----+----------+--------------------+\nonly showing top 5 rows\n\n"
     ]
    }
   ],
   "source": [
    "from pyspark.ml.classification import LogisticRegression\n",
    "\n",
    "\n",
    "lr = LogisticRegression(featuresCol=\"features\", labelCol=\"label\")\n",
    "\n",
    "\n",
    "lr_model = lr.fit(final_df)\n",
    "\n",
    "\n",
    "predictions = lr_model.transform(final_df)\n",
    "\n",
    "\n",
    "predictions.select(\"label\", \"prediction\", \"features\").show(5)\n"
   ]
  },
  {
   "cell_type": "code",
   "execution_count": 0,
   "metadata": {
    "application/vnd.databricks.v1+cell": {
     "cellMetadata": {
      "byteLimit": 2048000,
      "rowLimit": 10000
     },
     "inputWidgets": {},
     "nuid": "b8206a95-3f3f-4354-ae30-12a01291b769",
     "showTitle": false,
     "tableResultSettingsMap": {},
     "title": ""
    }
   },
   "outputs": [],
   "source": [
    "predictions.write.mode(\"overwrite\").parquet(\"dbfs:/FileStore/tables/predictions.parquet\")\n"
   ]
  },
  {
   "cell_type": "code",
   "execution_count": 0,
   "metadata": {
    "application/vnd.databricks.v1+cell": {
     "cellMetadata": {
      "byteLimit": 2048000,
      "rowLimit": 10000
     },
     "inputWidgets": {},
     "nuid": "bfc93831-169f-407f-a4ff-76ed74a4edc6",
     "showTitle": false,
     "tableResultSettingsMap": {},
     "title": ""
    }
   },
   "outputs": [],
   "source": [
    "# Save to DBFS (Databricks File System)\n",
    "lr_model.write().overwrite().save(\"dbfs:/models/logistic_model\")\n"
   ]
  },
  {
   "cell_type": "code",
   "execution_count": 0,
   "metadata": {
    "application/vnd.databricks.v1+cell": {
     "cellMetadata": {
      "byteLimit": 2048000,
      "rowLimit": 10000
     },
     "inputWidgets": {},
     "nuid": "63365e30-ce81-45ae-b944-befe93ffc94c",
     "showTitle": false,
     "tableResultSettingsMap": {},
     "title": ""
    }
   },
   "outputs": [
    {
     "output_type": "stream",
     "name": "stdout",
     "output_type": "stream",
     "text": [
      "+--------------------+-----------------+\n|            features|label_column_name|\n+--------------------+-----------------+\n|(45,[0,1,3,4,7,8,...|               No|\n|(45,[0,1,2,4,6,8,...|               No|\n|(45,[0,1,2,4,6,8,...|              Yes|\n|(45,[0,1,2,4,6,8,...|               No|\n|(45,[0,1,3,4,6,8,...|              Yes|\n|(45,[0,1,3,4,6,8,...|              Yes|\n|(45,[0,1,2,4,6,9,...|               No|\n|(45,[0,1,3,4,6,8,...|               No|\n|(45,[0,1,3,4,7,8,...|              Yes|\n|(45,[0,1,2,4,6,9,...|               No|\n|(45,[0,1,2,4,7,9,...|               No|\n|(45,[0,1,2,4,6,8,...|               No|\n|(45,[0,1,2,4,7,8,...|               No|\n|(45,[0,1,2,4,6,8,...|              Yes|\n|(45,[0,1,2,4,6,8,...|               No|\n|(45,[0,1,3,4,7,9,...|               No|\n|(45,[0,1,3,4,6,8,...|               No|\n|(45,[0,1,2,4,6,9,...|               No|\n|(45,[0,1,3,4,7,9,...|              Yes|\n|(45,[0,1,3,4,6,8,...|               No|\n+--------------------+-----------------+\nonly showing top 20 rows\n\n"
     ]
    }
   ],
   "source": [
    "data.show()"
   ]
  },
  {
   "cell_type": "code",
   "execution_count": 0,
   "metadata": {
    "application/vnd.databricks.v1+cell": {
     "cellMetadata": {
      "byteLimit": 2048000,
      "rowLimit": 10000
     },
     "inputWidgets": {},
     "nuid": "3bcf6b5d-8a60-47ba-bb4f-9e76a70183bb",
     "showTitle": false,
     "tableResultSettingsMap": {},
     "title": ""
    }
   },
   "outputs": [
    {
     "output_type": "stream",
     "name": "stdout",
     "output_type": "stream",
     "text": [
      "Out[12]: 5690"
     ]
    }
   ],
   "source": [
    "train_data.count()"
   ]
  },
  {
   "cell_type": "code",
   "execution_count": 0,
   "metadata": {
    "application/vnd.databricks.v1+cell": {
     "cellMetadata": {
      "byteLimit": 2048000,
      "rowLimit": 10000
     },
     "inputWidgets": {},
     "nuid": "7f38107a-f5b4-47e1-8048-24ce477874c6",
     "showTitle": false,
     "tableResultSettingsMap": {},
     "title": ""
    }
   },
   "outputs": [
    {
     "output_type": "stream",
     "name": "stdout",
     "output_type": "stream",
     "text": [
      "Out[13]: ['features', 'label_column_name', 'label']"
     ]
    }
   ],
   "source": [
    "final_df.columns"
   ]
  },
  {
   "cell_type": "code",
   "execution_count": 0,
   "metadata": {
    "application/vnd.databricks.v1+cell": {
     "cellMetadata": {
      "byteLimit": 2048000,
      "rowLimit": 10000
     },
     "inputWidgets": {},
     "nuid": "f77a9f29-ba68-40e4-b7e2-553283b0394c",
     "showTitle": false,
     "tableResultSettingsMap": {},
     "title": ""
    }
   },
   "outputs": [
    {
     "output_type": "stream",
     "name": "stdout",
     "output_type": "stream",
     "text": [
      "Out[14]: <pyspark.ml.classification.BinaryLogisticRegressionTrainingSummary at 0x71bb69198700>"
     ]
    }
   ],
   "source": [
    "lr_model.summary"
   ]
  },
  {
   "cell_type": "code",
   "execution_count": 0,
   "metadata": {
    "application/vnd.databricks.v1+cell": {
     "cellMetadata": {
      "byteLimit": 2048000,
      "rowLimit": 10000
     },
     "inputWidgets": {},
     "nuid": "a455eba1-4bba-45b2-8bb3-47db14494964",
     "showTitle": false,
     "tableResultSettingsMap": {},
     "title": ""
    }
   },
   "outputs": [
    {
     "output_type": "stream",
     "name": "stdout",
     "output_type": "stream",
     "text": [
      "Out[15]: ['features', 'label_column_name', 'label']"
     ]
    }
   ],
   "source": [
    "final_df.columns"
   ]
  },
  {
   "cell_type": "code",
   "execution_count": 0,
   "metadata": {
    "application/vnd.databricks.v1+cell": {
     "cellMetadata": {
      "byteLimit": 2048000,
      "rowLimit": 10000
     },
     "inputWidgets": {},
     "nuid": "ab7ece15-ff32-4c7c-a14d-1c271cedd8f2",
     "showTitle": false,
     "tableResultSettingsMap": {},
     "title": ""
    }
   },
   "outputs": [
    {
     "output_type": "stream",
     "name": "stdout",
     "output_type": "stream",
     "text": [
      "Out[16]: 1342"
     ]
    }
   ],
   "source": [
    "test_data.count()"
   ]
  },
  {
   "cell_type": "code",
   "execution_count": 0,
   "metadata": {
    "application/vnd.databricks.v1+cell": {
     "cellMetadata": {
      "byteLimit": 2048000,
      "rowLimit": 10000
     },
     "inputWidgets": {},
     "nuid": "b5efa640-866c-4c7a-a0db-274d67e8c0a6",
     "showTitle": false,
     "tableResultSettingsMap": {},
     "title": ""
    }
   },
   "outputs": [
    {
     "output_type": "stream",
     "name": "stdout",
     "output_type": "stream",
     "text": [
      "Coefficients: [-0.7552237788109915,-0.70958985062709,-0.012994232934743118,0.012994232934633781,-0.09512477465538137,0.09512477465507672,0.035325932080528984,-0.03532593208058972,0.08217066757766664,-0.08217066757774594,0.1296974145811207,-0.12969741458172607,-0.17066019755356585,0.22113077191983782,-0.12969741458172607,0.8997731001130755,-0.7555509069423401,-0.30297631667290587,0.21937981822022304,-0.017166644085817282,-0.30297631667290587,0.10728766471255731,0.11026126067071619,-0.30297631667290587,0.04189564768823214,0.18176998959144655,-0.30297631667290587,0.19050352501656026,0.01804099942915254,-0.30297631667290587,-0.1759660531259269,0.3953231158044507,-0.30297631667290587,-0.18282213314346274,0.400112788814289,-0.30297631667290587,0.7399660026117043,-0.9202263613373681,-0.09302211431029873,0.15895179657389705,-0.158951796574069,0.24681387013728634,0.0030103860548889826,-0.12278153432560665,-0.20412108017223404]\nIntercept: -2.0553083691675447\n"
     ]
    }
   ],
   "source": [
    "print(\"Coefficients:\", lr_model.coefficients)\n",
    "print(\"Intercept:\", lr_model.intercept)\n"
   ]
  },
  {
   "cell_type": "code",
   "execution_count": 0,
   "metadata": {
    "application/vnd.databricks.v1+cell": {
     "cellMetadata": {
      "byteLimit": 2048000,
      "rowLimit": 10000
     },
     "inputWidgets": {},
     "nuid": "55712583-2979-4333-8a68-a35c6a3ebc99",
     "showTitle": false,
     "tableResultSettingsMap": {},
     "title": ""
    }
   },
   "outputs": [
    {
     "output_type": "stream",
     "name": "stdout",
     "output_type": "stream",
     "text": [
      "Accuracy: 0.8006257110352674\nArea under ROC: 0.8405069118072368\n+--------------------+--------------------+\n|                 FPR|                 TPR|\n+--------------------+--------------------+\n|                 0.0|                 0.0|\n|                 0.0|0.003210272873194...|\n|1.936858415649816E-4|0.005885500267522739|\n|1.936858415649816E-4| 0.00909577314071696|\n|1.936858415649816E-4|0.012306046013911182|\n|1.936858415649816E-4|0.015516318887105404|\n|3.873716831299632E-4| 0.01819154628143392|\n|3.873716831299632E-4|0.021401819154628143|\n|5.810575246949448E-4|0.024077046548956663|\n|0.001162115049389...|0.025682182985553772|\n|0.001549486732519...|0.027822364901016586|\n|0.001936858415649816|  0.0299625468164794|\n|0.002130544257214...| 0.03263777421080792|\n|0.002324230098779779| 0.03531300160513644|\n|0.002517915940344...|0.037988228999464954|\n|0.002517915940344...| 0.04119850187265917|\n|0.002517915940344...|  0.0444087747458534|\n|0.002905287623474724| 0.04654895666131621|\n|0.002905287623474724| 0.04975922953451043|\n|0.003098973465039...|0.052434456928838954|\n+--------------------+--------------------+\nonly showing top 20 rows\n\n+--------------------+------------------+\n|              recall|         precision|\n+--------------------+------------------+\n|                 0.0|               1.0|\n|0.003210272873194...|               1.0|\n|0.005885500267522739|0.9166666666666666|\n| 0.00909577314071696|0.9444444444444444|\n|0.012306046013911182|0.9583333333333334|\n|0.015516318887105404|0.9666666666666667|\n| 0.01819154628143392|0.9444444444444444|\n|0.021401819154628143|0.9523809523809523|\n|0.024077046548956663|            0.9375|\n|0.025682182985553772|0.8888888888888888|\n|0.027822364901016586|0.8666666666666667|\n|  0.0299625468164794|0.8484848484848485|\n| 0.03263777421080792|0.8472222222222222|\n| 0.03531300160513644|0.8461538461538461|\n|0.037988228999464954|0.8452380952380952|\n| 0.04119850187265917|0.8555555555555555|\n|  0.0444087747458534|0.8645833333333334|\n| 0.04654895666131621|0.8529411764705882|\n| 0.04975922953451043|0.8611111111111112|\n|0.052434456928838954|0.8596491228070176|\n+--------------------+------------------+\nonly showing top 20 rows\n\n"
     ]
    }
   ],
   "source": [
    "training_summary = lr_model.summary\n",
    "print(\"Accuracy:\", training_summary.accuracy)\n",
    "print(\"Area under ROC:\", training_summary.areaUnderROC)\n",
    "training_summary.roc.show()  # Shows ROC curve\n",
    "training_summary.pr.show()   # Shows precision-recall curve\n"
   ]
  },
  {
   "cell_type": "code",
   "execution_count": 0,
   "metadata": {
    "application/vnd.databricks.v1+cell": {
     "cellMetadata": {
      "byteLimit": 2048000,
      "rowLimit": 10000
     },
     "inputWidgets": {},
     "nuid": "7f886f17-f814-4f6f-9f24-34624f50e61a",
     "showTitle": false,
     "tableResultSettingsMap": {},
     "title": ""
    }
   },
   "outputs": [],
   "source": []
  }
 ],
 "metadata": {
  "application/vnd.databricks.v1+notebook": {
   "computePreferences": null,
   "dashboards": [],
   "environmentMetadata": {
    "base_environment": "",
    "environment_version": "1"
   },
   "inputWidgetPreferences": null,
   "language": "python",
   "notebookMetadata": {
    "pythonIndentUnit": 4
   },
   "notebookName": "03_model_training.ipynb",
   "widgets": {}
  }
 },
 "nbformat": 4,
 "nbformat_minor": 0
}